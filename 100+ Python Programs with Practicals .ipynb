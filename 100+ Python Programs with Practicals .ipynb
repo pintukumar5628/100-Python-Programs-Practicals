{
 "cells": [
  {
   "cell_type": "markdown",
   "metadata": {},
   "source": [
    "100+ Python Programs with Practicals "
   ]
  },
  {
   "cell_type": "markdown",
   "metadata": {},
   "source": [
    "1.Program to add two numbers in Python"
   ]
  },
  {
   "cell_type": "code",
   "execution_count": 4,
   "metadata": {},
   "outputs": [
    {
     "name": "stdout",
     "output_type": "stream",
     "text": [
      "25\n"
     ]
    }
   ],
   "source": [
    "a =10\n",
    "b = 15\n",
    "#sum = a+b\n",
    "#print(sum)\n",
    "print(a+b)"
   ]
  },
  {
   "cell_type": "code",
   "execution_count": 7,
   "metadata": {},
   "outputs": [
    {
     "name": "stdout",
     "output_type": "stream",
     "text": [
      "5\n"
     ]
    }
   ],
   "source": [
    " # With user-inputs\n",
    " num1 = int(input(\"Enter a number here: \"))\n",
    " num2 = int(input(\"Enter the another number: \"))\n",
    " sum = num1+num2\n",
    " print(sum)"
   ]
  },
  {
   "cell_type": "markdown",
   "metadata": {},
   "source": [
    "2.find the square root"
   ]
  },
  {
   "cell_type": "code",
   "execution_count": null,
   "metadata": {},
   "outputs": [
    {
     "name": "stdout",
     "output_type": "stream",
     "text": [
      "7.0\n"
     ]
    }
   ],
   "source": [
    "# Using Exponentiation\n",
    "num = 64\n",
    "num1 = int(input(\"Enter a number here: \"))\n",
    "sr = num1**(1/2) # 0.5\n",
    "print(sr)"
   ]
  },
  {
   "cell_type": "code",
   "execution_count": 11,
   "metadata": {},
   "outputs": [
    {
     "name": "stdout",
     "output_type": "stream",
     "text": [
      "7.0\n"
     ]
    }
   ],
   "source": [
    "# Using Math Module\n",
    "import math\n",
    "num = int(input(\"enter a number here: \"))\n",
    "sr = math.sqrt(num)\n",
    "print(sr)"
   ]
  },
  {
   "cell_type": "code",
   "execution_count": 12,
   "metadata": {},
   "outputs": [
    {
     "name": "stdout",
     "output_type": "stream",
     "text": [
      "8.0\n"
     ]
    }
   ],
   "source": [
    "num = 64\n",
    "sr = num**(0.5)\n",
    "print(sr)"
   ]
  },
  {
   "cell_type": "markdown",
   "metadata": {},
   "source": [
    "3.Calculate the Area of a Triangle"
   ]
  },
  {
   "cell_type": "code",
   "execution_count": 14,
   "metadata": {},
   "outputs": [
    {
     "name": "stdout",
     "output_type": "stream",
     "text": [
      "60.0\n"
     ]
    }
   ],
   "source": [
    "height = 12\n",
    "base = 10\n",
    "area = (1/2)*base*height\n",
    "print(area)"
   ]
  },
  {
   "cell_type": "code",
   "execution_count": 22,
   "metadata": {},
   "outputs": [
    {
     "name": "stdout",
     "output_type": "stream",
     "text": [
      "66.0\n"
     ]
    }
   ],
   "source": [
    "height = int(input(\"Enter the height of the triangle: \"))\n",
    "base = int(input(\"enter the base of the triangle: \"))\n",
    "area = (0.5)*base*height\n",
    "print(area)"
   ]
  },
  {
   "cell_type": "markdown",
   "metadata": {},
   "source": [
    "4.Solve Quadratic Equation"
   ]
  },
  {
   "cell_type": "code",
   "execution_count": 23,
   "metadata": {},
   "outputs": [
    {
     "name": "stdout",
     "output_type": "stream",
     "text": [
      "(-3-4.795831523312719j) (-3-4.795831523312719j)\n"
     ]
    }
   ],
   "source": [
    "#Quadratic Equation ax**2 +bx + c = 0\n",
    "#a, b and c are real numbers\n",
    "#a! = 0\n",
    "\n",
    "import cmath\n",
    "\n",
    "a = int(input(\"enter number (a!=0): \"))\n",
    "b = int(input(\"enter number: \"))\n",
    "c = int(input(\"enter number: \"))\n",
    "\n",
    "# formula for discriminant\n",
    "d = (b**2) - (4*a*c)\n",
    "\n",
    "root1 = (-b-cmath.sqrt(d))/2*a\n",
    "root2 = (-b-cmath.sqrt(d))/2*a\n",
    "print(root1, root2)"
   ]
  },
  {
   "cell_type": "markdown",
   "metadata": {},
   "source": [
    "5.Swap Two Variables"
   ]
  },
  {
   "cell_type": "code",
   "execution_count": 2,
   "metadata": {},
   "outputs": [
    {
     "name": "stdout",
     "output_type": "stream",
     "text": [
      "6\n",
      "5\n"
     ]
    }
   ],
   "source": [
    "a = 5\n",
    "b = 6\n",
    "a,b = b,a\n",
    "print(a)\n",
    "print(b)"
   ]
  },
  {
   "cell_type": "code",
   "execution_count": 4,
   "metadata": {},
   "outputs": [
    {
     "name": "stdout",
     "output_type": "stream",
     "text": [
      "Before swapping:\n",
      "x = 13\n",
      "y = 12\n",
      "After swapping:\n",
      "x = 12\n",
      "y = 13\n"
     ]
    }
   ],
   "source": [
    "# Using Third Variable to Swap x and y\n",
    "x = 13\n",
    "y = 12\n",
    "\n",
    "# Print original values\n",
    "print(\"Before swapping:\")\n",
    "print(\"x =\", x)\n",
    "print(\"y =\", y)\n",
    "\n",
    "# Swapping logic\n",
    "temp = x  # Store the value of x in temp\n",
    "x = y     # Assign the value of y to x\n",
    "y = temp  # Assign the value of temp (original x) to y\n",
    "\n",
    "# Print swapped values\n",
    "print(\"After swapping:\")\n",
    "print(\"x =\", x)\n",
    "print(\"y =\", y)\n"
   ]
  },
  {
   "cell_type": "code",
   "execution_count": 4,
   "metadata": {},
   "outputs": [
    {
     "name": "stdout",
     "output_type": "stream",
     "text": [
      "the values of temp variable is 13\n",
      "the value of x is  12\n",
      "the value of y is 13\n"
     ]
    }
   ],
   "source": [
    "x = 13\n",
    "y = 12\n",
    "temp = x\n",
    "print(\"the values of temp variable is\", temp)\n",
    "\n",
    "x = y\n",
    "print(\"the value of x is \", x)\n",
    "\n",
    "y = temp\n",
    "print(\"the value of y is\",y)"
   ]
  },
  {
   "cell_type": "code",
   "execution_count": 12,
   "metadata": {},
   "outputs": [
    {
     "name": "stdout",
     "output_type": "stream",
     "text": [
      "12\n",
      "13\n"
     ]
    }
   ],
   "source": [
    "x = 13\n",
    "y = 12\n",
    "\n",
    "temp = x\n",
    "x = y\n",
    "y = temp\n",
    "print(x)\n",
    "print(y)"
   ]
  },
  {
   "cell_type": "markdown",
   "metadata": {},
   "source": [
    "6. Generate a Random Number"
   ]
  },
  {
   "cell_type": "code",
   "execution_count": 16,
   "metadata": {},
   "outputs": [
    {
     "name": "stdout",
     "output_type": "stream",
     "text": [
      "7\n"
     ]
    }
   ],
   "source": [
    "import random \n",
    "\n",
    "num = random.randint(0,10)\n",
    "print(num)"
   ]
  },
  {
   "cell_type": "markdown",
   "metadata": {},
   "source": [
    "7. Convert Kilometers to Miles"
   ]
  },
  {
   "cell_type": "code",
   "execution_count": 21,
   "metadata": {},
   "outputs": [
    {
     "name": "stdout",
     "output_type": "stream",
     "text": [
      "5.0 kms in miles will be 3.106855 miles\n"
     ]
    }
   ],
   "source": [
    "km = float (input(\"inter your value in km: \"))\n",
    "\n",
    "miles = (0.621371)*km\n",
    "\n",
    "print(km,\"kms in miles will be\",miles, \"miles\")"
   ]
  },
  {
   "cell_type": "code",
   "execution_count": 24,
   "metadata": {},
   "outputs": [
    {
     "name": "stdout",
     "output_type": "stream",
     "text": [
      "6.835081\n"
     ]
    }
   ],
   "source": [
    "# convert the 11km to miles in python\n",
    "km = 11\n",
    "miles = (0.621371)* km\n",
    "print(miles)"
   ]
  },
  {
   "cell_type": "markdown",
   "metadata": {},
   "source": [
    "8. Convert Celsius To Fahrenheit"
   ]
  },
  {
   "cell_type": "code",
   "execution_count": 25,
   "metadata": {},
   "outputs": [
    {
     "name": "stdout",
     "output_type": "stream",
     "text": [
      "the conver value is  53.6 Fahrenheit\n"
     ]
    }
   ],
   "source": [
    "celsius = int(input(\"enter temperature in celsius:\"))\n",
    "\n",
    "fahrenheit = celsius * (9/5)+32\n",
    "\n",
    "print(\"the conver value is \" , fahrenheit, \"Fahrenheit\")"
   ]
  },
  {
   "cell_type": "code",
   "execution_count": 26,
   "metadata": {},
   "outputs": [
    {
     "name": "stdout",
     "output_type": "stream",
     "text": [
      "59.0\n"
     ]
    }
   ],
   "source": [
    "# convert the value 15 celsius to fahrenheit \n",
    "celsius = 15\n",
    "fahrenheit = (15* 9/5)+32\n",
    "print(fahrenheit)"
   ]
  },
  {
   "cell_type": "markdown",
   "metadata": {},
   "source": [
    "9.  Check if a Number is Positive, Negative or 0"
   ]
  },
  {
   "cell_type": "code",
   "execution_count": 27,
   "metadata": {},
   "outputs": [
    {
     "name": "stdout",
     "output_type": "stream",
     "text": [
      "It is negative number\n"
     ]
    }
   ],
   "source": [
    "num = -12\n",
    "\n",
    "if num > 0:\n",
    "    print(\"It is possitive number\")\n",
    "elif num == 0:\n",
    "    print(\"It is Zero\")\n",
    "else:\n",
    "    print(\"It is negative number\")"
   ]
  },
  {
   "cell_type": "code",
   "execution_count": 28,
   "metadata": {},
   "outputs": [
    {
     "name": "stdout",
     "output_type": "stream",
     "text": [
      "It is possitive number\n"
     ]
    }
   ],
   "source": [
    "# User input\n",
    "\n",
    "num = int(input(\"enter the number here:\"))\n",
    "\n",
    "if num > 0:\n",
    "    print(\"It is possitive number\")\n",
    "elif num == 0:\n",
    "    print(\"It is Zero\")\n",
    "else:\n",
    "    print(\"It is negative number\")"
   ]
  },
  {
   "cell_type": "markdown",
   "metadata": {},
   "source": [
    "10. Check if a Number is Odd or Even"
   ]
  },
  {
   "cell_type": "code",
   "execution_count": 34,
   "metadata": {},
   "outputs": [
    {
     "name": "stdout",
     "output_type": "stream",
     "text": [
      "It is even number\n"
     ]
    }
   ],
   "source": [
    "num = 12\n",
    "if num %2 == 0:\n",
    "    print(\"It is even number\")\n",
    "else:\n",
    "    print(\"It is odd number\")"
   ]
  },
  {
   "cell_type": "code",
   "execution_count": 33,
   "metadata": {},
   "outputs": [
    {
     "name": "stdout",
     "output_type": "stream",
     "text": [
      "It is odd number\n"
     ]
    }
   ],
   "source": [
    "num = int(input(\"Enter the number here:\"))\n",
    "if num %2 == 0:\n",
    "    print(\"It is even number\")\n",
    "else:\n",
    "    print(\"It is odd number\")"
   ]
  },
  {
   "cell_type": "markdown",
   "metadata": {},
   "source": [
    "11.  Check Leap Year"
   ]
  },
  {
   "cell_type": "code",
   "execution_count": 4,
   "metadata": {},
   "outputs": [
    {
     "name": "stdout",
     "output_type": "stream",
     "text": [
      "2026 is not a leap year\n"
     ]
    }
   ],
   "source": [
    "year = int(input(\"enter a year:\"))\n",
    "if (year % 400 == 0) and (year % 100 == 0):\n",
    "    print(year, \"leap year\")\n",
    "\n",
    "elif (year % 400 == 0) and (year % 100 !=0):\n",
    "    print(year, \" ia a leap year\")\n",
    "else:\n",
    "    print(year, \"is not a leap year\")"
   ]
  },
  {
   "cell_type": "markdown",
   "metadata": {},
   "source": [
    "12. Find the Largest Among Three Numbers"
   ]
  },
  {
   "cell_type": "code",
   "execution_count": 7,
   "metadata": {},
   "outputs": [
    {
     "name": "stdout",
     "output_type": "stream",
     "text": [
      "56 is largest number\n"
     ]
    }
   ],
   "source": [
    "num1 = 12\n",
    "num2 = 56\n",
    "num3 = 34\n",
    "\n",
    "if (num1 > num2) and (num1 > num3):\n",
    "    print(num1, \"is largest number\")\n",
    "elif (num2 > num3) and (num2 > num1):\n",
    "    print(num2, \"is largest number\")\n",
    "else:\n",
    "    print(num3, \"is the largest number\")"
   ]
  },
  {
   "cell_type": "code",
   "execution_count": 9,
   "metadata": {},
   "outputs": [
    {
     "name": "stdout",
     "output_type": "stream",
     "text": [
      "89 is the largest number\n"
     ]
    }
   ],
   "source": [
    "num1 =int(input(\"Enter the 1st largest number heer:\"))\n",
    "num2 = int(input(\"Enter the 2nd largest number heer:\"))\n",
    "num3 = int(input(\"Enter the 3rd largest number heer:\"))\n",
    "\n",
    "if (num1 > num2) and (num1 > num3):\n",
    "    print(num1, \"is largest number\")\n",
    "elif (num2 > num3) and (num2 > num1):\n",
    "    print(num2, \"is largest number\")\n",
    "else:\n",
    "    print(num3, \"is the largest number\")"
   ]
  },
  {
   "cell_type": "markdown",
   "metadata": {},
   "source": [
    "13. Check Prime Number"
   ]
  },
  {
   "cell_type": "code",
   "execution_count": 12,
   "metadata": {},
   "outputs": [
    {
     "name": "stdout",
     "output_type": "stream",
     "text": [
      "It is a prime number\n"
     ]
    }
   ],
   "source": [
    "num = int(input(\"enter a nuber here\"))\n",
    "if num > 1:\n",
    "    for i in range(2, num):\n",
    "        if num % i ==0:\n",
    "            print(\"it is not a prime number\")\n",
    "            break \n",
    "    else:\n",
    "        print(\"It is a prime number\")\n"
   ]
  },
  {
   "cell_type": "code",
   "execution_count": 14,
   "metadata": {},
   "outputs": [
    {
     "name": "stdout",
     "output_type": "stream",
     "text": [
      "it is prime number\n"
     ]
    }
   ],
   "source": [
    "num = 7 \n",
    "if num > 1:\n",
    "    for i in range(2, num):\n",
    "        if num % i == 0:\n",
    "         print(\"it is prime number \")\n",
    "    else: \n",
    "         print(\"it is prime number\")"
   ]
  },
  {
   "cell_type": "markdown",
   "metadata": {},
   "source": [
    "14. Print all Prime Numbers in an Interval"
   ]
  },
  {
   "cell_type": "code",
   "execution_count": 16,
   "metadata": {},
   "outputs": [
    {
     "name": "stdout",
     "output_type": "stream",
     "text": [
      "2\n",
      "3\n",
      "5\n",
      "7\n",
      "11\n",
      "13\n",
      "17\n",
      "19\n",
      "23\n",
      "29\n",
      "31\n",
      "37\n",
      "41\n",
      "43\n",
      "47\n"
     ]
    }
   ],
   "source": [
    "lower = int(input(\"enter lower limit here:\"))\n",
    "upper = int(input(\"enter upper limit her:\"))\n",
    "for num in range (lower, upper+1):\n",
    "    if num > 1:\n",
    "        for i in range(2, num):\n",
    "            if num % i ==0:\n",
    "                break\n",
    "        else:\n",
    "            print(num)\n"
   ]
  },
  {
   "cell_type": "code",
   "execution_count": null,
   "metadata": {},
   "outputs": [],
   "source": []
  }
 ],
 "metadata": {
  "kernelspec": {
   "display_name": "Python 3",
   "language": "python",
   "name": "python3"
  },
  "language_info": {
   "codemirror_mode": {
    "name": "ipython",
    "version": 3
   },
   "file_extension": ".py",
   "mimetype": "text/x-python",
   "name": "python",
   "nbconvert_exporter": "python",
   "pygments_lexer": "ipython3",
   "version": "3.10.6"
  }
 },
 "nbformat": 4,
 "nbformat_minor": 2
}
