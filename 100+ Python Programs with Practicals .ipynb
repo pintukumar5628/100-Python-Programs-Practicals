{
 "cells": [
  {
   "cell_type": "markdown",
   "metadata": {},
   "source": [
    "100+ Python Programs with Practicals "
   ]
  },
  {
   "cell_type": "markdown",
   "metadata": {},
   "source": [
    "1.Program to add two numbers in Python"
   ]
  },
  {
   "cell_type": "code",
   "execution_count": 4,
   "metadata": {},
   "outputs": [
    {
     "name": "stdout",
     "output_type": "stream",
     "text": [
      "25\n"
     ]
    }
   ],
   "source": [
    "a =10\n",
    "b = 15\n",
    "#sum = a+b\n",
    "#print(sum)\n",
    "print(a+b)"
   ]
  },
  {
   "cell_type": "code",
   "execution_count": 7,
   "metadata": {},
   "outputs": [
    {
     "name": "stdout",
     "output_type": "stream",
     "text": [
      "5\n"
     ]
    }
   ],
   "source": [
    " # With user-inputs\n",
    " num1 = int(input(\"Enter a number here: \"))\n",
    " num2 = int(input(\"Enter the another number: \"))\n",
    " sum = num1+num2\n",
    " print(sum)"
   ]
  },
  {
   "cell_type": "markdown",
   "metadata": {},
   "source": [
    "2.find the square root"
   ]
  },
  {
   "cell_type": "code",
   "execution_count": null,
   "metadata": {},
   "outputs": [
    {
     "name": "stdout",
     "output_type": "stream",
     "text": [
      "7.0\n"
     ]
    }
   ],
   "source": [
    "# Using Exponentiation\n",
    "num = 64\n",
    "num1 = int(input(\"Enter a number here: \"))\n",
    "sr = num1**(1/2) # 0.5\n",
    "print(sr)"
   ]
  },
  {
   "cell_type": "code",
   "execution_count": 11,
   "metadata": {},
   "outputs": [
    {
     "name": "stdout",
     "output_type": "stream",
     "text": [
      "7.0\n"
     ]
    }
   ],
   "source": [
    "# Using Math Module\n",
    "import math\n",
    "num = int(input(\"enter a number here: \"))\n",
    "sr = math.sqrt(num)\n",
    "print(sr)"
   ]
  },
  {
   "cell_type": "code",
   "execution_count": 12,
   "metadata": {},
   "outputs": [
    {
     "name": "stdout",
     "output_type": "stream",
     "text": [
      "8.0\n"
     ]
    }
   ],
   "source": [
    "num = 64\n",
    "sr = num**(0.5)\n",
    "print(sr)"
   ]
  },
  {
   "cell_type": "markdown",
   "metadata": {},
   "source": [
    "3.Calculate the Area of a Triangle"
   ]
  },
  {
   "cell_type": "code",
   "execution_count": 14,
   "metadata": {},
   "outputs": [
    {
     "name": "stdout",
     "output_type": "stream",
     "text": [
      "60.0\n"
     ]
    }
   ],
   "source": [
    "height = 12\n",
    "base = 10\n",
    "area = (1/2)*base*height\n",
    "print(area)"
   ]
  },
  {
   "cell_type": "code",
   "execution_count": 22,
   "metadata": {},
   "outputs": [
    {
     "name": "stdout",
     "output_type": "stream",
     "text": [
      "66.0\n"
     ]
    }
   ],
   "source": [
    "height = int(input(\"Enter the height of the triangle: \"))\n",
    "base = int(input(\"enter the base of the triangle: \"))\n",
    "area = (0.5)*base*height\n",
    "print(area)"
   ]
  },
  {
   "cell_type": "markdown",
   "metadata": {},
   "source": [
    "4.Solve Quadratic Equation"
   ]
  },
  {
   "cell_type": "code",
   "execution_count": 23,
   "metadata": {},
   "outputs": [
    {
     "name": "stdout",
     "output_type": "stream",
     "text": [
      "(-3-4.795831523312719j) (-3-4.795831523312719j)\n"
     ]
    }
   ],
   "source": [
    "#Quadratic Equation ax**2 +bx + c = 0\n",
    "#a, b and c are real numbers\n",
    "#a! = 0\n",
    "\n",
    "import cmath\n",
    "\n",
    "a = int(input(\"enter number (a!=0): \"))\n",
    "b = int(input(\"enter number: \"))\n",
    "c = int(input(\"enter number: \"))\n",
    "\n",
    "# formula for discriminant\n",
    "d = (b**2) - (4*a*c)\n",
    "\n",
    "root1 = (-b-cmath.sqrt(d))/2*a\n",
    "root2 = (-b-cmath.sqrt(d))/2*a\n",
    "print(root1, root2)"
   ]
  },
  {
   "cell_type": "markdown",
   "metadata": {},
   "source": [
    "5.Swap Two Variables"
   ]
  },
  {
   "cell_type": "code",
   "execution_count": 2,
   "metadata": {},
   "outputs": [
    {
     "name": "stdout",
     "output_type": "stream",
     "text": [
      "6\n",
      "5\n"
     ]
    }
   ],
   "source": [
    "a = 5\n",
    "b = 6\n",
    "a,b = b,a\n",
    "print(a)\n",
    "print(b)"
   ]
  },
  {
   "cell_type": "code",
   "execution_count": 2,
   "metadata": {},
   "outputs": [
    {
     "name": "stdout",
     "output_type": "stream",
     "text": [
      "13\n",
      "12\n",
      "12\n"
     ]
    }
   ],
   "source": [
    "# Using Third Variable\n",
    "x = 13\n",
    "y = 12\n",
    "temp = x\n",
    "print(temp)\n",
    "x = y\n",
    "print(x)\n",
    "temp = y\n",
    "print(temp)\n",
    "y = x"
   ]
  },
  {
   "cell_type": "code",
   "execution_count": 4,
   "metadata": {},
   "outputs": [
    {
     "name": "stdout",
     "output_type": "stream",
     "text": [
      "Before swapping:\n",
      "x = 13\n",
      "y = 12\n",
      "After swapping:\n",
      "x = 12\n",
      "y = 13\n"
     ]
    }
   ],
   "source": [
    "# Using Third Variable to Swap x and y\n",
    "x = 13\n",
    "y = 12\n",
    "\n",
    "# Print original values\n",
    "print(\"Before swapping:\")\n",
    "print(\"x =\", x)\n",
    "print(\"y =\", y)\n",
    "\n",
    "# Swapping logic\n",
    "temp = x  # Store the value of x in temp\n",
    "x = y     # Assign the value of y to x\n",
    "y = temp  # Assign the value of temp (original x) to y\n",
    "\n",
    "# Print swapped values\n",
    "print(\"After swapping:\")\n",
    "print(\"x =\", x)\n",
    "print(\"y =\", y)\n"
   ]
  },
  {
   "cell_type": "code",
   "execution_count": null,
   "metadata": {},
   "outputs": [],
   "source": []
  }
 ],
 "metadata": {
  "kernelspec": {
   "display_name": "Python 3",
   "language": "python",
   "name": "python3"
  },
  "language_info": {
   "codemirror_mode": {
    "name": "ipython",
    "version": 3
   },
   "file_extension": ".py",
   "mimetype": "text/x-python",
   "name": "python",
   "nbconvert_exporter": "python",
   "pygments_lexer": "ipython3",
   "version": "3.10.6"
  }
 },
 "nbformat": 4,
 "nbformat_minor": 2
}
